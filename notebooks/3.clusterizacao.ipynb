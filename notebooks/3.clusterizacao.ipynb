{
 "cells": [
  {
   "cell_type": "code",
   "execution_count": null,
   "metadata": {},
   "outputs": [],
   "source": [
    "%load_ext autoreload\n",
    "%autoreload 2"
   ]
  },
  {
   "cell_type": "code",
   "execution_count": null,
   "metadata": {},
   "outputs": [],
   "source": [
    "import os\n",
    "\n",
    "if os.path.basename(os.getcwd()) == \"notebooks\":\n",
    "    os.chdir(\"..\")"
   ]
  },
  {
   "cell_type": "code",
   "execution_count": null,
   "metadata": {},
   "outputs": [],
   "source": [
    "from src.prepare import prepare_data\n",
    "\n",
    "train, test = prepare_data(\n",
    "    project_id=\"ca-churn-project\",\n",
    "    database_name=\"customer_churn\",\n",
    "    table_name=\"customer_churn_data\",\n",
    ")"
   ]
  },
  {
   "cell_type": "code",
   "execution_count": null,
   "metadata": {},
   "outputs": [],
   "source": [
    "categoric_columns = train.select_dtypes(include=[\"category\"]).columns\n",
    "\n",
    "\n",
    "def extract_code(df, column):\n",
    "    return df[column].cat.codes\n",
    "\n",
    "\n",
    "for column in categoric_columns:\n",
    "    train[column] = extract_code(train, column)\n",
    "    test[column] = extract_code(test, column)\n",
    "\n",
    "\n",
    "train[\"receita_total\"] = train[\"receita_total\"].fillna(train[\"receita_mensal\"])\n",
    "test[\"receita_total\"] = test[\"receita_total\"].fillna(test[\"receita_mensal\"])\n",
    "\n",
    "# train.set_index(\"id\", inplace=True)\n",
    "# test.set_index(\"id\", inplace=True)"
   ]
  },
  {
   "cell_type": "code",
   "execution_count": null,
   "metadata": {},
   "outputs": [],
   "source": [
    "y_train = train.pop(\"churn\")\n",
    "y_test = test.pop(\"churn\")"
   ]
  },
  {
   "cell_type": "code",
   "execution_count": null,
   "metadata": {},
   "outputs": [],
   "source": [
    "import pandas as pd\n",
    "#convert receita_mensal and receita_total to buckets\n",
    "train[\"receita_mensal\"] = pd.qcut(train[\"receita_mensal\"], 4, labels=False)\n",
    "train[\"receita_total\"] = pd.qcut(train[\"receita_total\"], 4, labels=False)"
   ]
  },
  {
   "cell_type": "markdown",
   "metadata": {},
   "source": [
    "## Raw data"
   ]
  },
  {
   "cell_type": "code",
   "execution_count": null,
   "metadata": {},
   "outputs": [],
   "source": [
    "from sklearn.cluster import KMeans\n",
    "from tqdm.auto import tqdm\n",
    "import matplotlib.pyplot as plt\n",
    "\n",
    "\n",
    "# calcular o ponto de inflexão (Elbow)\n",
    "def elbow_point(sse, max_k=15):\n",
    "    x1, y1 = 2, sse[0]\n",
    "    x2, y2 = max_k, sse[-1]\n",
    "\n",
    "    distances = []\n",
    "    for i in range(len(sse)):\n",
    "        x0 = i + 2\n",
    "        y0 = sse[i]\n",
    "        numerator = abs((y2 - y1) * x0 - (x2 - x1) * y0 + x2 * y1 - y2 * x1)\n",
    "        denominator = ((y2 - y1) ** 2 + (x2 - x1) ** 2) ** 0.5\n",
    "        distances.append(numerator / denominator)\n",
    "\n",
    "    return distances.index(max(distances)) + 2\n",
    "\n",
    "\n",
    "# Lista para armazenar os valores de SSE (Soma dos Quadrados dos Erros)\n",
    "sse = []\n",
    "max_k = 15\n",
    "for k in tqdm(range(2, max_k + 1)):\n",
    "    kmeans = KMeans(n_clusters=k, random_state=0)\n",
    "    kmeans.fit(train)\n",
    "    sse.append(kmeans.inertia_)  # Inertia é o SSE\n",
    "\n",
    "\n",
    "best_k = elbow_point(sse, max_k)\n",
    "\n",
    "plt.figure(figsize=(8, 6))\n",
    "\n",
    "plt.plot(range(2, max_k + 1), sse, marker=\"o\")\n",
    "plt.plot([2, max_k], [sse[0], sse[-1]], \"g--\")\n",
    "plt.plot(best_k, sse[best_k - 2], \"ro\")\n",
    "\n",
    "plt.xlabel(\"Número de clusters\")\n",
    "plt.ylabel(\"SSE (Inertia)\")\n",
    "plt.title(\"Método Elbow para seleção do número de clusters\")\n",
    "\n",
    "plt.grid(True)\n",
    "plt.xticks(range(2, max_k + 1))\n",
    "plt.show()"
   ]
  },
  {
   "cell_type": "code",
   "execution_count": null,
   "metadata": {},
   "outputs": [],
   "source": [
    "from sklearn.decomposition import PCA\n",
    "#\n",
    "\n",
    "kmeans = KMeans(n_clusters=best_k, random_state=0)\n",
    "kmeans.fit(train)\n",
    "\n",
    "train[\"cluster\"] = kmeans.predict(train)\n",
    "\n",
    "pca = PCA(n_components=2)\n",
    "train_pca = pca.fit_transform(train)\n",
    "\n",
    "plt.figure(figsize=(8, 6))\n",
    "\n",
    "plt.scatter(train_pca[:, 0], train_pca[:, 1], c=train[\"cluster\"], cmap=\"viridis\")\n",
    "plt.xlabel(\"Componente Principal 1\")\n",
    "plt.ylabel(\"Componente Principal 2\")\n",
    "\n",
    "plt.title(\"Clusters em 2D\")\n",
    "\n",
    "plt.show()"
   ]
  },
  {
   "cell_type": "code",
   "execution_count": null,
   "metadata": {},
   "outputs": [],
   "source": [
    "train"
   ]
  },
  {
   "cell_type": "code",
   "execution_count": null,
   "metadata": {},
   "outputs": [],
   "source": [
    "kmeans.cluster_centers_.shape"
   ]
  },
  {
   "cell_type": "code",
   "execution_count": null,
   "metadata": {},
   "outputs": [],
   "source": [
    "train.values[:,1:].shape"
   ]
  },
  {
   "cell_type": "code",
   "execution_count": null,
   "metadata": {},
   "outputs": [],
   "source": [
    "#print samples near centroids\n",
    "for i in range(best_k):\n",
    "    print(f\"Cluster {i}\")\n",
    "    print(train.iloc[(train.values[:,1:] - kmeans.cluster_centers_[i]).sum(axis=1).argsort()[:5]])"
   ]
  },
  {
   "cell_type": "markdown",
   "metadata": {},
   "source": [
    "## Gower Distance"
   ]
  },
  {
   "cell_type": "code",
   "execution_count": null,
   "metadata": {},
   "outputs": [],
   "source": [
    "# pip install gower scikit-learn-extra"
   ]
  },
  {
   "cell_type": "code",
   "execution_count": null,
   "metadata": {},
   "outputs": [],
   "source": [
    "train=train[y_train]\n",
    "train.shape"
   ]
  },
  {
   "cell_type": "code",
   "execution_count": null,
   "metadata": {},
   "outputs": [],
   "source": [
    "#convert all to int8\n",
    "train = train.astype('float64')"
   ]
  },
  {
   "cell_type": "code",
   "execution_count": null,
   "metadata": {},
   "outputs": [],
   "source": [
    "import gower\n",
    "\n",
    "dist_matrix = gower.gower_matrix(train)\n",
    "dist_matrix.shape"
   ]
  },
  {
   "cell_type": "code",
   "execution_count": null,
   "metadata": {},
   "outputs": [],
   "source": [
    "from sklearn_extra.cluster import KMedoids\n",
    "\n",
    "clusters = (KMedoids(n_clusters=5, \n",
    "                           metric='precomputed',\n",
    "                           method='pam', init='build', \n",
    "                           max_iter=300, \n",
    "                           random_state=123)\n",
    "            .fit(dist_matrix)\n",
    "            .labels_)"
   ]
  },
  {
   "cell_type": "code",
   "execution_count": null,
   "metadata": {},
   "outputs": [],
   "source": [
    "#pca\n",
    "from sklearn.decomposition import PCA\n",
    "#reduce distance matrix to 2D\n",
    "pca = PCA(n_components=2)\n",
    "dist_matrix_pca = pca.fit_transform(dist_matrix)\n",
    "dist_matrix_pca.shape"
   ]
  },
  {
   "cell_type": "code",
   "execution_count": null,
   "metadata": {},
   "outputs": [],
   "source": [
    "#visualize distance matrix and clusters\n",
    "import matplotlib.pyplot as plt\n",
    "plt.figure(figsize=(8, 6))\n",
    "\n",
    "plt.scatter(dist_matrix_pca[:, 0], dist_matrix_pca[:, 1], c=clusters, cmap=\"viridis\")\n",
    "plt.xlabel(\"Componente Principal 1\")\n",
    "plt.ylabel(\"Componente Principal 2\")\n",
    "\n",
    "plt.title(\"Clusters em 2D\")"
   ]
  },
  {
   "cell_type": "code",
   "execution_count": null,
   "metadata": {},
   "outputs": [],
   "source": [
    "#umap\n",
    "import umap\n",
    "reducer = umap.UMAP(n_neighbors=5, min_dist=0.3, n_components=2)\n",
    "embedding = reducer.fit_transform(dist_matrix)\n",
    "embedding.shape"
   ]
  },
  {
   "cell_type": "code",
   "execution_count": null,
   "metadata": {},
   "outputs": [],
   "source": [
    "#visualize distance matrix and clusters\n",
    "import matplotlib.pyplot as plt\n",
    "plt.figure(figsize=(8, 6))\n",
    "\n",
    "plt.scatter(embedding[:, 0], embedding[:, 1], c=clusters, cmap=\"viridis\")\n",
    "plt.xlabel(\"Componente Principal 1\")\n",
    "plt.ylabel(\"Componente Principal 2\")\n",
    "\n",
    "plt.title(\"Clusters em 2D\")"
   ]
  }
 ],
 "metadata": {
  "kernelspec": {
   "display_name": "ca",
   "language": "python",
   "name": "python3"
  },
  "language_info": {
   "codemirror_mode": {
    "name": "ipython",
    "version": 3
   },
   "file_extension": ".py",
   "mimetype": "text/x-python",
   "name": "python",
   "nbconvert_exporter": "python",
   "pygments_lexer": "ipython3",
   "version": "3.11.8"
  }
 },
 "nbformat": 4,
 "nbformat_minor": 2
}
