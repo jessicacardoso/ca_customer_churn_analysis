{
 "cells": [
  {
   "cell_type": "markdown",
   "metadata": {},
   "source": [
    "<h1 style=\"color:#0088ED;text-align:center\"> Análise exploratória de Dados</h1>\n",
    "\n",
    "Neste notebook, vamos explorar um conjunto de dados clientes de uma empresa do setor financeiro. O objetivo é entender o perfil dos clientes que possam ser mais propensos a abandonar o serviço oferecido de ERP (Enterprise Resource Planning) e, com isso, elaborar estratégias para reter esses clientes."
   ]
  },
  {
   "cell_type": "code",
   "execution_count": null,
   "metadata": {},
   "outputs": [],
   "source": [
    "import pandas as pd\n",
    "import numpy as np\n",
    "import missingno as msno\n",
    "import matplotlib.pyplot as plt\n",
    "from matplotlib import patches as mpatches\n",
    "from textwrap import wrap\n",
    "import seaborn as sns\n",
    "import pandas_gbq\n",
    "\n",
    "from IPython.display import display, HTML\n",
    "\n",
    "\n",
    "%matplotlib inline"
   ]
  },
  {
   "cell_type": "code",
   "execution_count": null,
   "metadata": {},
   "outputs": [],
   "source": [
    "sheet_id = \"1qU9oeYgrrpXGAiqiB9jZ_uQgoXxEuRLVU9iPj83UTkw\"\n",
    "sheet_name = \"customer_churn_data\"\n",
    "df = pd.read_csv(\n",
    "    f\"https://docs.google.com/spreadsheets/d/{sheet_id}/gviz/tq?tqx=out:csv&sheet={sheet_name}\"\n",
    ")"
   ]
  },
  {
   "cell_type": "code",
   "execution_count": null,
   "metadata": {},
   "outputs": [],
   "source": [
    "df.columns = (\n",
    "    df.columns.str.lower()\n",
    "    .str.strip()\n",
    "    .str.replace(\" \", \"_\")\n",
    "    .str.normalize(\"NFKD\")\n",
    "    .str.encode(\"ascii\", errors=\"ignore\")\n",
    "    .str.decode(\"utf-8\")\n",
    "    .str.split(\":\")\n",
    "    .str[-1]\n",
    "    .str.replace(\".\", \"__\")\n",
    ")"
   ]
  },
  {
   "cell_type": "markdown",
   "metadata": {},
   "source": [
    "## 1. Visão geral do conjunto de dados\n",
    "\n",
    "O conjunto de dados é composto por 22 colunas e 7043 linhas, sendo `Churn` a variável dependente que desejamos prever. A seguir, uma visão geral das colunas do conjunto de dados:\n",
    "\n",
    "- **ID** : identificação do cliente\n",
    "- **Tipo de empresa**: tipo de empresa, sendo \"Pequena empresa\" ou \"Micro empresa\". \n",
    "- **Fundação da empresa**: Ano de fundação da empresa (de 2001 a 2021)\n",
    "- **Possui mais de um sócio**: Se a empresa possui mais de um sócio - Sim ou Não\n",
    "- **Funcionários**: Número de funcionários - \"até 5 funcionários\" ou \"6 ou mais funcionários\"\n",
    "- **Meses de permanência**: quantidade de meses que o cliente permaneceu com o serviço\n",
    "- **Utiliza serviços financeiros**: Se o cliente utiliza serviços financeiros - Sim ou Não\n",
    "- **PossuiContador**: Se o cliente possui contador - Sim ou Não\n",
    "- **Faz conciliação bancária**: Tipo de conciliação bancária - \"manual\" ou \"automática\" ou \"não faz\"\n",
    "- **Frequência de utilização de feature do sistema:**\n",
    "    - Módulo financeiro: \"Pouco uso\", \"Uso frequente\" ou \"Nunca utilizou\"\n",
    "    - Emissão de nota fiscal: \"Pouco uso\", \"Uso frequente\" ou \"Nunca utilizou\"\n",
    "    - Integração bancária: \"Pouco uso\", \"Uso frequente\" ou \"Nunca utilizou\"\n",
    "    - Módulo de vendas: \"Pouco uso\", \"Uso frequente\" ou \"Nunca utilizou\"\n",
    "    - Relatórios: \"Pouco uso\", \"Uso frequente\" ou \"Nunca utilizou\"\n",
    "    - Utilização de APIs de integração: \"Pouco uso\", \"Uso frequente\" ou \"Nunca utilizou\"\n",
    "- **Contrato**: Tipo de contrato - \"Mês-a-mês\", \"Anual\" ou \"Trimestral\"\n",
    "- **Emite boletos**: Se emite boletos - 0 ou 1\n",
    "- **Emite boletos.1**: Se emite boletos - Yes ou No\n",
    "- **Tipo de pagamento**: Forma usada para pagamento e frequência - \"Boleto - pagamento único\", \"Boleto - mês a mês\", \"Cartão de crédito - pagamento único\" ou \"Cartão de crédito - mês a mês\"\n",
    "- **Receita mensal**: Receita mensal do cliente\n",
    "- **Receita total**: Receita total do cliente\n",
    "- **Churn**: Se o cliente abandonou o serviço - Sim ou Não\n",
    "\n"
   ]
  },
  {
   "cell_type": "code",
   "execution_count": null,
   "metadata": {},
   "outputs": [],
   "source": [
    "df.shape, df[\"id\"].nunique()"
   ]
  },
  {
   "cell_type": "code",
   "execution_count": null,
   "metadata": {},
   "outputs": [],
   "source": [
    "df = df.set_index(\"id\")"
   ]
  },
  {
   "cell_type": "code",
   "execution_count": null,
   "metadata": {},
   "outputs": [],
   "source": [
    "# checar duplicatas\n",
    "df.duplicated().sum()"
   ]
  },
  {
   "cell_type": "code",
   "execution_count": null,
   "metadata": {},
   "outputs": [],
   "source": [
    "df = df.drop_duplicates()"
   ]
  },
  {
   "cell_type": "code",
   "execution_count": null,
   "metadata": {},
   "outputs": [],
   "source": [
    "df.info()"
   ]
  },
  {
   "cell_type": "code",
   "execution_count": null,
   "metadata": {},
   "outputs": [],
   "source": [
    "df[\"possuicontador\"].isna().sum(), df[\"receita_total\"].isna().sum()"
   ]
  },
  {
   "cell_type": "markdown",
   "metadata": {},
   "source": [
    "Todas as colunas possuem dados preenchidos, exceto as colunas `possuicontador`, onde 682 não estão preenchidos e `receita total` com 11 faltantes. A razão provável para isso pode ser oriúnda de vários fatores como:\n",
    "\n",
    "- O cliente não quis informar.\n",
    "- O atributo poderia não existir na época em que os dados foram coletados.\n",
    "- Distração do preenchimento do formulário.\n",
    "- Problemas técnicos na coleta de dados.\n",
    "- A informação não era conhecida na época da coleta de dados.\n",
    "\n",
    "\n",
    "Estratégias que podem ser adotadas para lidar com os valores nulos em `possuicontador` são:\n",
    "\n",
    "- Preencher os valores nulos com a moda da coluna.\n",
    "- Usar um estimador para preencher os valores nulos.\n",
    "- Preencher os valores nulos com \"Não informado\", assumindo que o cliente não quis informar ou a informação não era conhecida na época da coleta de dados.\n",
    "- Preencher os valores nulos com \"Não\" se considerarmos que o cliente não possui contador.\n",
    "\n",
    "Algumas estratégias que podem ser adotadas para lidar com os valores nulos em `receita total` são:\n",
    "\n",
    "- Preencher os valores nulos com a média, mediana ou moda da coluna.\n",
    "- Usar um estimador para preencher os valores nulos.\n",
    "- Preencher com a receita mensal, assumindo que a receita total é igual a receita mensal."
   ]
  },
  {
   "cell_type": "code",
   "execution_count": null,
   "metadata": {},
   "outputs": [],
   "source": [
    "msno.matrix(df, color=(62 / 255, 143 / 255, 196 / 255))"
   ]
  },
  {
   "cell_type": "code",
   "execution_count": null,
   "metadata": {},
   "outputs": [],
   "source": [
    "with pd.option_context(\"display.max_columns\", None, \"display.max_rows\", 10):\n",
    "    display(df)"
   ]
  },
  {
   "cell_type": "markdown",
   "metadata": {},
   "source": [
    "### 1.1 Pré-processamento dos dados\n",
    "As variáveis `Receita mensal` e `Receita total` podem ser convertidas para o tipo `float` para facilitar a análise, dado que ambas se referem a valores monetários."
   ]
  },
  {
   "cell_type": "code",
   "execution_count": null,
   "metadata": {},
   "outputs": [],
   "source": [
    "def convert_to_float(amount):\n",
    "    return (\n",
    "        amount.str.replace(\"R$\", \"\")\n",
    "        .str.replace(\".\", \"|\")\n",
    "        .str.replace(\",\", \".\")\n",
    "        .str.replace(\"|\", \"\")\n",
    "        .astype(float)\n",
    "    )"
   ]
  },
  {
   "cell_type": "code",
   "execution_count": null,
   "metadata": {},
   "outputs": [],
   "source": [
    "df[\"receita_mensal\"] = convert_to_float(df[\"receita_mensal\"])\n",
    "df[\"receita_total\"] = convert_to_float(df[\"receita_total\"])"
   ]
  },
  {
   "cell_type": "markdown",
   "metadata": {},
   "source": [
    "A variável `Emite boletos.1` possui a mesma informação que a variável `Emite boletos`, logo, uma delas pode ser removida."
   ]
  },
  {
   "cell_type": "code",
   "execution_count": null,
   "metadata": {},
   "outputs": [],
   "source": [
    "df[\"emite_boletos__1\"].replace({\"Yes\": \"1\", \"No\": \"0\"}).astype(int).equals(\n",
    "    df[\"emite_boletos\"]\n",
    ")"
   ]
  },
  {
   "cell_type": "code",
   "execution_count": null,
   "metadata": {},
   "outputs": [],
   "source": [
    "df = df.drop(\"emite_boletos__1\", axis=1, errors=\"ignore\")"
   ]
  },
  {
   "cell_type": "markdown",
   "metadata": {},
   "source": [
    "A variável `Tipo de pagamento` pode ser dividida em duas variáveis: `Forma de pagamento` e `Frequência de pagamento`. "
   ]
  },
  {
   "cell_type": "code",
   "execution_count": null,
   "metadata": {},
   "outputs": [],
   "source": [
    "df[[\"forma_de_pagamento\", \"frequencia_de_pagamento\"]] = df[\n",
    "    \"tipo_de_pagamento\"\n",
    "].str.split(\" - \", expand=True)\n",
    "df = df.drop(\"tipo_de_pagamento\", axis=1)"
   ]
  },
  {
   "cell_type": "markdown",
   "metadata": {},
   "source": [
    "Algumas variáveis do conjunto são do tipo qualitativa ordinal, ou seja, possuem uma ordem natural. Por exemplo, a variável `Frequência de utilização de feature do sistema: Módulo financeiro` possui a ordem \"Nunca utilizou\" < \"Pouco uso\" < \"Uso frequente\". Desse modo, transformamos essas variáveis em categorias ordinais."
   ]
  },
  {
   "cell_type": "code",
   "execution_count": null,
   "metadata": {},
   "outputs": [],
   "source": [
    "df[\"funcionarios\"].unique(), df[\"_modulo_financeiro\"].unique(), df[\n",
    "    \"contrato\"\n",
    "].unique(), df[\"frequencia_de_pagamento\"].unique()"
   ]
  },
  {
   "cell_type": "code",
   "execution_count": null,
   "metadata": {},
   "outputs": [],
   "source": [
    "def categorize_column(df, column_name):\n",
    "    categories = [\"Nunca utilizou\", \"Pouco uso\", \"Uso frequente\"]\n",
    "    return pd.Categorical(df[column_name], categories=categories, ordered=True)\n",
    "\n",
    "\n",
    "df[\"funcionarios\"] = pd.Categorical(\n",
    "    df[\"funcionarios\"],\n",
    "    categories=[\"até 5 funcionários\", \"6 ou mais funcionários\"],\n",
    "    ordered=True,\n",
    ")\n",
    "\n",
    "df[\"contrato\"] = pd.Categorical(\n",
    "    df[\"contrato\"],\n",
    "    categories=[\"Mês-a-mês\", \"Trimestral\", \"Anual\"],\n",
    "    ordered=True,\n",
    ")\n",
    "\n",
    "df[\"frequencia_de_pagamento\"] = pd.Categorical(\n",
    "    df[\"frequencia_de_pagamento\"],\n",
    "    categories=[\"mês a mês\", \"pagamento único\"],\n",
    "    ordered=True,\n",
    ")\n",
    "\n",
    "df[\"_emissao_de_nota_fiscal\"] = categorize_column(df, \"_emissao_de_nota_fiscal\")\n",
    "df[\"_integracao_bancaria\"] = categorize_column(df, \"_integracao_bancaria\")\n",
    "df[\"_modulo_de_vendas\"] = categorize_column(df, \"_modulo_de_vendas\")\n",
    "df[\"_modulo_financeiro\"] = categorize_column(df, \"_modulo_financeiro\")\n",
    "df[\"_relatorios\"] = categorize_column(df, \"_relatorios\")\n",
    "df[\"_utilizacao_de_apis_de_integracao\"] = categorize_column(\n",
    "    df, \"_utilizacao_de_apis_de_integracao\"\n",
    ")\n",
    "\n",
    "df[\"tipo_de_empresa\"] = pd.Categorical(\n",
    "    df[\"tipo_de_empresa\"],\n",
    "    categories=[\n",
    "        \"Micro empresa\",\n",
    "        \"Pequena empresa\",\n",
    "    ],\n",
    ")\n",
    "df[\"faz_conciliacao_bancaria\"] = df[\"faz_conciliacao_bancaria\"].astype(\"category\")\n",
    "df[\"forma_de_pagamento\"] = df[\"forma_de_pagamento\"].astype(\"category\")\n",
    "df[\"possui_mais_de_um_socio\"] = pd.Categorical(\n",
    "    df[\"possui_mais_de_um_socio\"],\n",
    "    categories=[\n",
    "        \"Não\",\n",
    "        \"Sim\",\n",
    "    ],\n",
    ")\n",
    "\n",
    "df[\"utiliza_servicos_financeiros\"] = pd.Categorical(\n",
    "    df[\"utiliza_servicos_financeiros\"],\n",
    "    categories=[\n",
    "        \"Não\",\n",
    "        \"Sim\",\n",
    "    ],\n",
    ")\n",
    "\n",
    "df[\"churn\"] = pd.Categorical(\n",
    "    df[\"churn\"],\n",
    "    categories=[\n",
    "        \"Não\",\n",
    "        \"Sim\",\n",
    "    ],\n",
    ")\n",
    "\n",
    "df[\"emite_boletos\"] = pd.Categorical(\n",
    "    df[\"emite_boletos\"].astype(str).replace({\"1\": \"Sim\", \"0\": \"Não\"}),\n",
    "    categories=[\n",
    "        \"Não\",\n",
    "        \"Sim\",\n",
    "    ],\n",
    ")"
   ]
  },
  {
   "cell_type": "markdown",
   "metadata": {},
   "source": [
    "### 1.2 Análise descritiva\n",
    "A análise descritiva é uma etapa importante para entender o comportamento das variáveis do conjunto de dados. Ela nos permite identificar possíveis problemas nos dados, como outliers, valores faltantes, distribuição das variáveis, entre outros."
   ]
  },
  {
   "cell_type": "code",
   "execution_count": null,
   "metadata": {},
   "outputs": [],
   "source": [
    "df.hist(bins=20, edgecolor=\"black\", grid=False)\n",
    "plt.show()"
   ]
  },
  {
   "cell_type": "markdown",
   "metadata": {},
   "source": [
    "Usando o método `describe`, podemos obter estatísticas descritivas das variáveis numéricas. Vemos que o cliente que permaneceu por mais tempo com o serviço ficou 72 meses, enquanto o que permaneceu por menos tempo menos de 1 mês. A receita mensal média é de R\\$ 64.79 e a receita total média é de R\\$ 2.285,54. A maior parte das empresas foi fundada a partir de 2016, sendo que 50% das empresas possuem receita total de até R\\$ 1.399,35"
   ]
  },
  {
   "cell_type": "code",
   "execution_count": null,
   "metadata": {},
   "outputs": [],
   "source": [
    "desc = df.describe().T\n",
    "desc[\"skewness\"] = df.select_dtypes(include=\"number\").skew().round(2)\n",
    "desc[\"kurtosis\"] = df.select_dtypes(include=\"number\").kurt().round(2)\n",
    "desc"
   ]
  },
  {
   "cell_type": "markdown",
   "metadata": {},
   "source": [
    "A maior parte das empresas do conjunto é do tipo \"Pequena empresa\", não possui mais de um sócio, possui até 5 funcionários, utiliza serviços financeiros, faz pouco uso dos sistema, tem contrato mês-a-mês e emite boletos com frequência de pagamento única. E como esperado, a maioria dos clientes não abandonou o serviço. O campo `utiliza serviços financeiros` é o campo mais desbalanceado, composto por 6.354 registros \"Sim\" do total de 7.043 registros."
   ]
  },
  {
   "cell_type": "code",
   "execution_count": null,
   "metadata": {},
   "outputs": [],
   "source": [
    "df.describe(include=[\"category\", \"object\"])"
   ]
  },
  {
   "cell_type": "markdown",
   "metadata": {},
   "source": [
    "Com relação ao uso do sistema, vemos que o percentual de 21,7% que nunca usou aparece em todas as *features* do sistema. Dos clientes que usam o sistema, a maioria faz pouco uso. No entanto, quanto vemos cada módulo particular, notamos que a utilização de APIs de integração é a que tem mais uso frequente, seguida pelo módulo de relatórios."
   ]
  },
  {
   "cell_type": "code",
   "execution_count": null,
   "metadata": {},
   "outputs": [],
   "source": [
    "system_features = [\n",
    "    \"_modulo_financeiro\",\n",
    "    \"_emissao_de_nota_fiscal\",\n",
    "    \"_integracao_bancaria\",\n",
    "    \"_modulo_de_vendas\",\n",
    "    \"_relatorios\",\n",
    "    \"_utilizacao_de_apis_de_integracao\",\n",
    "]\n",
    "\n",
    "fig, ax = plt.subplots(2, 3, figsize=(20, 10))\n",
    "fig.suptitle(\"Sistema\")\n",
    "for i, feature in enumerate(system_features):\n",
    "    df[feature].value_counts().plot.pie(\n",
    "        autopct=\"%1.1f%%\",\n",
    "        ax=ax[i // 3, i % 3],\n",
    "        colors=[\"#3E8FC4\", \"#07478E\", \"#D3E3F3\"],\n",
    "    )\n",
    "    ax[i // 3, i % 3].set_title(feature)\n",
    "    ax[i // 3, i % 3].set_ylabel(\"\")\n",
    "plt.show()"
   ]
  },
  {
   "cell_type": "markdown",
   "metadata": {},
   "source": [
    "Com relação a variável churn:"
   ]
  },
  {
   "cell_type": "code",
   "execution_count": null,
   "metadata": {},
   "outputs": [],
   "source": [
    "# bar plot churn\n",
    "\n",
    "churn_counts = df[\"churn\"].value_counts(normalize=True).round(4).to_frame().T\n",
    "\n",
    "\n",
    "fig, ax = plt.subplots(figsize=(8, 2))\n",
    "churn_counts.plot(\n",
    "    kind=\"barh\", stacked=True, ax=ax, color=[\"#3E8FC4\", \"#07478E\"], width=2\n",
    ")\n",
    "ax.set_xlim(0, 1)\n",
    "ax.set_xticks([])\n",
    "ax.set_yticks([])\n",
    "\n",
    "\n",
    "for spine in ax.spines.values():\n",
    "    spine.set_visible(False)\n",
    "\n",
    "ax.get_legend().remove()\n",
    "\n",
    "ax.annotate(\n",
    "    f\"{churn_counts['Sim'].values[0]*100}%\",\n",
    "    xy=(1 - churn_counts[\"Sim\"].values[0] / 2, 0),\n",
    "    va=\"center\",\n",
    "    ha=\"center\",\n",
    "    fontsize=30,\n",
    "    fontweight=\"normal\",\n",
    "    fontfamily=\"serif\",\n",
    "    color=\"white\",\n",
    ")\n",
    "\n",
    "ax.annotate(\n",
    "    f\"{churn_counts['Não'].values[0]*100}%\",\n",
    "    xy=(churn_counts[\"Não\"].values[0] / 2, 0),\n",
    "    va=\"center\",\n",
    "    ha=\"center\",\n",
    "    fontsize=30,\n",
    "    fontweight=\"normal\",\n",
    "    fontfamily=\"serif\",\n",
    "    color=\"white\",\n",
    ")\n",
    "\n",
    "ax.annotate(\n",
    "    \"Churn\",\n",
    "    xy=(0.95 - churn_counts[\"Sim\"].values[0] / 2, -0.75),\n",
    "    va=\"center\",\n",
    "    fontsize=16,\n",
    "    fontweight=\"light\",\n",
    "    fontfamily=\"serif\",\n",
    "    color=\"white\",\n",
    ")\n",
    "\n",
    "ax.annotate(\n",
    "    \"Não Churn\",\n",
    "    xy=(churn_counts[\"Não\"].values[0] / 2 - 0.1, -0.75),\n",
    "    va=\"center\",\n",
    "    fontsize=16,\n",
    "    fontweight=\"light\",\n",
    "    fontfamily=\"serif\",\n",
    "    color=\"white\",\n",
    ")\n",
    "\n",
    "fig.text(\n",
    "    0.125,\n",
    "    1.1,\n",
    "    \"Distribuição de Churn dos Clientes\",\n",
    "    fontsize=18,\n",
    "    fontweight=\"bold\",\n",
    "    fontfamily=\"serif\",\n",
    "    color=\"#323232\",\n",
    ")\n",
    "\n",
    "fig.text(\n",
    "    0.125,\n",
    "    0.95,\n",
    "    \"Dos 7.036 clientes, 26,5% cancelaram o serviço\",\n",
    "    fontsize=12,\n",
    "    fontweight=\"light\",\n",
    "    fontfamily=\"serif\",\n",
    "    color=\"#323232\",\n",
    ")\n",
    "\n",
    "\n",
    "plt.show()"
   ]
  },
  {
   "cell_type": "markdown",
   "metadata": {},
   "source": [
    "## 2. Análise exploratória de dados\n",
    "\n",
    "Nessa seção, vamos explorar as relações entre as variáveis do conjunto de dados. Vamos começar com a análise das variáveis categóricas e, em seguida, analisar as variáveis numéricas.\n"
   ]
  },
  {
   "cell_type": "code",
   "execution_count": null,
   "metadata": {},
   "outputs": [],
   "source": [
    "def plot_categorical_feature(df, columns, axes):\n",
    "    for ax, column in zip(axes.flatten(), columns):\n",
    "        grouped = df.groupby([column, \"churn\"], observed=True).size()\n",
    "\n",
    "        (grouped / grouped.groupby(level=0, observed=True).sum()).unstack().plot.bar(\n",
    "            stacked=True,\n",
    "            color=[\"#c3e3f7\", \"#3E8FC4\"],\n",
    "            ax=ax,\n",
    "            width=1,\n",
    "            edgecolor=\"white\",\n",
    "        )\n",
    "\n",
    "        ax.set_title(column)\n",
    "        ax.set_ylabel(\"\")\n",
    "\n",
    "        ax.set_xticklabels(ax.get_xticklabels(), rotation=0)\n",
    "\n",
    "        # inserir porcentagem dentro das barras\n",
    "        for p in ax.patches:\n",
    "            width = p.get_width()\n",
    "            height = p.get_height()\n",
    "            x, y = p.get_xy()\n",
    "            ax.text(\n",
    "                x + width / 2,\n",
    "                y + height / 2,\n",
    "                f\"{height * 100:.2f}%\",\n",
    "                horizontalalignment=\"center\",\n",
    "                verticalalignment=\"center\",\n",
    "            )\n",
    "\n",
    "            ax.spines[[\"top\", \"right\"]].set_visible(False)\n",
    "            ax.set_xlabel(\"\")\n",
    "\n",
    "            ax.set_yticks([0, 0.25, 0.5, 0.75, 1])\n",
    "            ax.set_yticklabels([\"0%\", \"25%\", \"50%\", \"75%\", \"100%\"])\n",
    "            ax.set_xticklabels(\n",
    "                [\n",
    "                    (\"\\n\".join(wrap(label.get_text(), 15)))\n",
    "                    for label in ax.get_xticklabels()\n",
    "                ]\n",
    "            )\n",
    "        ax.get_legend().remove()\n",
    "\n",
    "    plt.legend(\n",
    "        handles=[\n",
    "            mpatches.Patch(color=\"#c3e3f7\", label=\"Renovou\"),\n",
    "            mpatches.Patch(color=\"#3E8FC4\", label=\"Não renovou\"),\n",
    "        ],\n",
    "        bbox_to_anchor=(1, 1.5),\n",
    "    )\n",
    "\n",
    "    plt.tight_layout()\n",
    "    plt.show()\n",
    "\n",
    "\n",
    "_, axes = plt.subplots(2, 3, figsize=(16, 8))\n",
    "plot_categorical_feature(\n",
    "    df,\n",
    "    [\n",
    "        \"_emissao_de_nota_fiscal\",\n",
    "        \"_integracao_bancaria\",\n",
    "        \"_modulo_de_vendas\",\n",
    "        \"_modulo_financeiro\",\n",
    "        \"_relatorios\",\n",
    "        \"_utilizacao_de_apis_de_integracao\",\n",
    "    ],\n",
    "    axes,\n",
    ")"
   ]
  },
  {
   "cell_type": "markdown",
   "metadata": {},
   "source": [
    "Nos casos em que houveram *churning*, notamos que os módulos com \"pouco uso\" são os que mais aparecem. No entanto, vemos que o percentual de clientes que \"nunca utilizou\" é maior para os clientes que renovaram o contrato. "
   ]
  },
  {
   "cell_type": "code",
   "execution_count": null,
   "metadata": {},
   "outputs": [],
   "source": [
    "_, axes = plt.subplots(2, 5, figsize=(18, 6))\n",
    "plot_categorical_feature(\n",
    "    df,\n",
    "    [\n",
    "        \"tipo_de_empresa\",\n",
    "        \"possui_mais_de_um_socio\",\n",
    "        \"funcionarios\",\n",
    "        \"utiliza_servicos_financeiros\",\n",
    "        \"faz_conciliacao_bancaria\",\n",
    "        \"contrato\",\n",
    "        \"emite_boletos\",\n",
    "        \"forma_de_pagamento\",\n",
    "        \"frequencia_de_pagamento\",\n",
    "        \"possuicontador\",\n",
    "    ],\n",
    "    axes,\n",
    ")"
   ]
  },
  {
   "cell_type": "markdown",
   "metadata": {},
   "source": [
    "Relacionando a variável de churn com as demais variáveis nominais, vemos que os clientes que fizeram churn, em sua maioria, faz contrato mês-a-mês e o tipo de conciliação bancária é \"manual\" com pagamento único via boleto."
   ]
  },
  {
   "cell_type": "code",
   "execution_count": null,
   "metadata": {},
   "outputs": [],
   "source": [
    "fig, axes = plt.subplots(1, 4, figsize=(18, 3))\n",
    "\n",
    "for ax, column in zip(axes.flatten(), df.select_dtypes(include=\"number\").columns):\n",
    "    for churn, color in zip(df[\"churn\"].cat.categories, [\"#c3e3f7\", \"#3E8FC4\"]):\n",
    "        df[df[\"churn\"] == churn][column].plot.hist(\n",
    "            ax=ax, alpha=0.5, color=color, bins=20, label=churn\n",
    "        )\n",
    "    ax.set_title(column)\n",
    "    ax.set_xlabel(\"\")\n",
    "    ax.set_ylabel(\"\")\n",
    "    ax.spines[[\"top\", \"right\"]].set_visible(False)\n",
    "\n",
    "\n",
    "plt.legend(\n",
    "    handles=[\n",
    "        mpatches.Patch(color=\"#c3e3f7\", label=\"Renovou\"),\n",
    "        mpatches.Patch(color=\"#3E8FC4\", label=\"Não renovou\"),\n",
    "    ],\n",
    "    bbox_to_anchor=(1.5, 1),\n",
    ")\n",
    "\n",
    "plt.suptitle(\"\")\n",
    "plt.tight_layout()\n",
    "plt.show()"
   ]
  },
  {
   "cell_type": "markdown",
   "metadata": {},
   "source": [
    "Ao analisar as variáveis numéricas, observamos que a distribuição de meses de permanência tem assimetria diferente para os clientes que deram *churn* e os que não deram. Clientes que renovaram tinham uma distribuição mais distribuída, enquanto os que fizeram churn têm uma distribuição mais assimétrica à direita, ou seja, a maioria dos clientes que saíu permaneceu com o serviço por um curto período de tempo. Com relação a receita mensal, notamos que clientes com maior receita foram os que fizeram churn."
   ]
  },
  {
   "cell_type": "code",
   "execution_count": null,
   "metadata": {},
   "outputs": [],
   "source": [
    "fig, axes = plt.subplots(1, 2, figsize=(16, 4))\n",
    "\n",
    "df.boxplot(column=\"meses_de_permanencia\", by=\"churn\", ax=axes[0])\n",
    "df.boxplot(column=\"receita_mensal\", by=\"churn\", ax=axes[1])\n",
    "\n",
    "axes[0].set_title(\"Meses de Permanência\")\n",
    "axes[0].set_xlabel(\"\")\n",
    "\n",
    "axes[1].set_title(\"Receita Mensal\")\n",
    "axes[1].set_xlabel(\"\")\n",
    "plt.suptitle(\"\")\n",
    "\n",
    "# remover grid\n",
    "for ax in axes:\n",
    "    ax.grid(False)\n",
    "\n",
    "plt.show()"
   ]
  },
  {
   "cell_type": "code",
   "execution_count": null,
   "metadata": {},
   "outputs": [],
   "source": [
    "def get_stats(colname):\n",
    "    return pd.concat(\n",
    "        [\n",
    "            df.loc[df[\"churn\"] == \"Sim\", [colname]]\n",
    "            .select_dtypes(include=\"number\")\n",
    "            .describe(\n",
    "                percentiles=[\n",
    "                    0.25,\n",
    "                    0.5,\n",
    "                    0.75,\n",
    "                    0.9,\n",
    "                    0.95,\n",
    "                    0.99,\n",
    "                ]\n",
    "            )\n",
    "            .T.assign(\n",
    "                skewness=df.loc[df[\"churn\"] == \"Sim\", [colname]].skew().round(2),\n",
    "                kurtosis=df.loc[df[\"churn\"] == \"Sim\", [colname]].kurt().round(2),\n",
    "                desc=\"Não renovou\",\n",
    "            ),\n",
    "            df.loc[df[\"churn\"] == \"Não\", [colname]]\n",
    "            .select_dtypes(include=\"number\")\n",
    "            .describe(percentiles=[0.25, 0.5, 0.75, 0.9, 0.95, 0.99])\n",
    "            .T.assign(\n",
    "                skewness=df.loc[df[\"churn\"] == \"Não\", [colname]].skew().round(2),\n",
    "                kurtosis=df.loc[df[\"churn\"] == \"Não\", [colname]].kurt().round(2),\n",
    "                desc=\"Renovou\",\n",
    "            ),\n",
    "            df.loc[:, [colname]]\n",
    "            .select_dtypes(include=\"number\")\n",
    "            .describe(percentiles=[0.25, 0.5, 0.75, 0.9, 0.95, 0.99])\n",
    "            .T.assign(\n",
    "                skewness=df.loc[:, [colname]].skew().round(2),\n",
    "                kurtosis=df.loc[:, [colname]].kurt().round(2),\n",
    "                desc=\"Todos\",\n",
    "            ),\n",
    "        ],\n",
    "        axis=0,\n",
    "    )\n",
    "\n",
    "\n",
    "display(\n",
    "    HTML(\n",
    "        \"<p style='font-weight:bold'>Churn por receita mensal</p>\"\n",
    "        + get_stats(\"receita_mensal\").to_html()\n",
    "    )\n",
    ")\n",
    "\n",
    "display(\n",
    "    HTML(\n",
    "        \"<p style='font-weight:bold'>Churn por receita total</p>\"\n",
    "        + get_stats(\"receita_total\").to_html()\n",
    "    )\n",
    ")\n",
    "\n",
    "display(\n",
    "    HTML(\n",
    "        \"<p style='font-weight:bold'>Churn por meses de permanência</p>\"\n",
    "        + get_stats(\"meses_de_permanencia\").to_html()\n",
    "    )\n",
    ")"
   ]
  },
  {
   "cell_type": "markdown",
   "metadata": {},
   "source": [
    "Vemos nas tabelas de estatística descritiva que há clientes com \"meses de permanência\" igual a 0, e como mencionamos na seção 1, há clientes sem receita total. Pode ser possível que esses dados se refiram a clientes que acabaram de adquirir o serviço, ou seja, não tiveram tempo de permanência suficiente para ter receita total."
   ]
  },
  {
   "cell_type": "code",
   "execution_count": null,
   "metadata": {},
   "outputs": [],
   "source": [
    "df.loc[\n",
    "    (df[\"receita_total\"].isna()) | (df[\"meses_de_permanencia\"] == 0),\n",
    "    [\n",
    "        \"tipo_de_empresa\",\n",
    "        \"fundacao_da_empresa\",\n",
    "        \"possui_mais_de_um_socio\",\n",
    "        \"funcionarios\",\n",
    "        \"receita_total\",\n",
    "        \"meses_de_permanencia\",\n",
    "        \"churn\",\n",
    "    ],\n",
    "]"
   ]
  },
  {
   "cell_type": "code",
   "execution_count": null,
   "metadata": {},
   "outputs": [],
   "source": [
    "df.loc[df[\"meses_de_permanencia\"] == 1].assign(\n",
    "    receita_total_corrigida=df[\"receita_mensal\"] * df[\"meses_de_permanencia\"]\n",
    ")[\n",
    "    [\n",
    "        \"receita_mensal\",\n",
    "        \"meses_de_permanencia\",\n",
    "        \"receita_total_corrigida\",\n",
    "        \"receita_total\",\n",
    "    ]\n",
    "].describe()"
   ]
  },
  {
   "cell_type": "markdown",
   "metadata": {},
   "source": [
    "Em seguida, verificamos a correlação entre as variáveis com a variável dependente `Churn`. As variáveis `meses de permanência` e `contrato` são as que possuem maior correlação com a variável `Churn`. Foi algo que notamos ao observar o histograma nas análises anteriores, onde clientes com menos tempo de permanência e contrato mês-a-mês foram os que mais deram churn."
   ]
  },
  {
   "cell_type": "code",
   "execution_count": null,
   "metadata": {},
   "outputs": [],
   "source": [
    "corr = (\n",
    "    df.assign(\n",
    "        contrato=df[\"contrato\"].cat.codes,\n",
    "        emite_boletos=df[\"emite_boletos\"].cat.codes,\n",
    "        forma_de_pagamento=df[\"forma_de_pagamento\"].cat.codes,\n",
    "        faz_conciliacao_bancaria=df[\"faz_conciliacao_bancaria\"].cat.codes,\n",
    "        funcionarios=df[\"funcionarios\"].cat.codes,\n",
    "        possui_mais_de_um_socio=df[\"possui_mais_de_um_socio\"].cat.codes,\n",
    "        frequencia_de_pagamento=df[\"frequencia_de_pagamento\"].cat.codes,\n",
    "        churn=df[\"churn\"].cat.codes,\n",
    "    )\n",
    "    .select_dtypes(include=\"number\")\n",
    "    .corr()\n",
    ")\n",
    "\n",
    "\n",
    "# Gera uma máscara para o triângulo superior\n",
    "mask = np.triu(np.ones_like(corr, dtype=bool))\n",
    "\n",
    "# Define uma figura do matplotlib\n",
    "ax = plt.figure(figsize=(10, 10))\n",
    "\n",
    "# Gera um colormap divergente\n",
    "cmap = sns.diverging_palette(230, 20, as_cmap=True)\n",
    "\n",
    "# Desenha um heatmap com a máscara e a correta proporção\n",
    "sns.heatmap(\n",
    "    corr,\n",
    "    mask=mask,\n",
    "    cmap=cmap,\n",
    "    vmax=1,\n",
    "    center=0,\n",
    "    square=True,\n",
    "    linewidths=0.5,\n",
    "    cbar_kws={\"shrink\": 0.5},\n",
    "    annot=True,\n",
    ")\n",
    "\n",
    "plt.show()"
   ]
  },
  {
   "cell_type": "markdown",
   "metadata": {},
   "source": [
    "## 3. Salvando o conjunto de dados\n",
    "\n",
    "Por fim, salvamos o conjunto de dados pré-processado para ser utilizado na modelagem."
   ]
  },
  {
   "cell_type": "code",
   "execution_count": null,
   "metadata": {},
   "outputs": [],
   "source": [
    "df[\n",
    "    [\n",
    "        \"emite_boletos\",\n",
    "        \"possui_mais_de_um_socio\",\n",
    "        \"utiliza_servicos_financeiros\",\n",
    "        \"churn\",\n",
    "    ]\n",
    "] = (\n",
    "    df[\n",
    "        [\n",
    "            \"emite_boletos\",\n",
    "            \"possui_mais_de_um_socio\",\n",
    "            \"utiliza_servicos_financeiros\",\n",
    "            \"churn\",\n",
    "        ]\n",
    "    ]\n",
    "    .astype(\"str\")\n",
    "    .replace({\"Sim\": \"1\", \"Não\": \"0\"})\n",
    "    .astype(\"int\")\n",
    "    .astype(\"bool\")\n",
    ")"
   ]
  },
  {
   "cell_type": "markdown",
   "metadata": {},
   "source": [
    "Armazenamos o conjunto de dados no *BigQuery*, um serviço de armazenamento de dados na nuvem do Google."
   ]
  },
  {
   "cell_type": "code",
   "execution_count": null,
   "metadata": {},
   "outputs": [],
   "source": [
    "pandas_gbq.to_gbq(\n",
    "    df,\n",
    "    destination_table=\"customer_churn.customer_churn_data\",\n",
    "    project_id=\"ca-churn-project\",\n",
    "    if_exists=\"replace\",\n",
    ")"
   ]
  }
 ],
 "metadata": {
  "kernelspec": {
   "display_name": "ca",
   "language": "python",
   "name": "python3"
  },
  "language_info": {
   "codemirror_mode": {
    "name": "ipython",
    "version": 3
   },
   "file_extension": ".py",
   "mimetype": "text/x-python",
   "name": "python",
   "nbconvert_exporter": "python",
   "pygments_lexer": "ipython3",
   "version": "3.11.8"
  }
 },
 "nbformat": 4,
 "nbformat_minor": 2
}
