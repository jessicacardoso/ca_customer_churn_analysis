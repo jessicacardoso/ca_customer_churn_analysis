{
 "cells": [
  {
   "cell_type": "markdown",
   "metadata": {},
   "source": [
    "# Modelagem"
   ]
  },
  {
   "cell_type": "code",
   "execution_count": null,
   "metadata": {},
   "outputs": [],
   "source": [
    "%load_ext autoreload\n",
    "%autoreload 2\n",
    "\n",
    "# pip install shap"
   ]
  },
  {
   "cell_type": "code",
   "execution_count": null,
   "metadata": {},
   "outputs": [],
   "source": [
    "import os\n",
    "\n",
    "if os.path.basename(os.getcwd()) == \"notebooks\":\n",
    "    os.chdir(\"..\")"
   ]
  },
  {
   "cell_type": "code",
   "execution_count": null,
   "metadata": {},
   "outputs": [],
   "source": [
    "from src.prepare import prepare_data\n",
    "\n",
    "X_train, X_test = prepare_data(\n",
    "    project_id=\"ca-churn-project\",\n",
    "    database_name=\"customer_churn\",\n",
    "    table_name=\"customer_churn_data\",\n",
    ")"
   ]
  },
  {
   "cell_type": "code",
   "execution_count": null,
   "metadata": {},
   "outputs": [],
   "source": [
    "categoric_columns = X_train.select_dtypes(include=[\"category\"]).columns\n",
    "\n",
    "X_train[\"receita_total\"] = X_train[\"receita_total\"].fillna(X_train[\"receita_mensal\"])\n",
    "X_test[\"receita_total\"] = X_test[\"receita_total\"].fillna(X_test[\"receita_mensal\"])\n",
    "\n",
    "y_train = X_train.pop(\"churn\")\n",
    "y_test = X_test.pop(\"churn\")"
   ]
  },
  {
   "cell_type": "code",
   "execution_count": null,
   "metadata": {},
   "outputs": [],
   "source": [
    "X_train[categoric_columns]"
   ]
  },
  {
   "cell_type": "code",
   "execution_count": null,
   "metadata": {},
   "outputs": [],
   "source": [
    "from sklearn.preprocessing import OrdinalEncoder, OneHotEncoder, RobustScaler\n",
    "from sklearn.compose import ColumnTransformer\n",
    "\n",
    "ordinal_columns = [\n",
    "    \"tipo_de_empresa\",\n",
    "    \"funcionarios\",\n",
    "    \"_modulo_financeiro\",\n",
    "    \"_emissao_de_nota_fiscal\",\n",
    "    \"_integracao_bancaria\",\n",
    "    \"_modulo_de_vendas\",\n",
    "    \"_relatorios\",\n",
    "    \"_utilizacao_de_apis_de_integracao\",\n",
    "    \"contrato\",\n",
    "    \"frequencia_de_pagamento\",\n",
    "]\n",
    "\n",
    "numeric_columns = [\n",
    "    \"fundacao_da_empresa\",\n",
    "    \"meses_de_permanencia\",\n",
    "    \"receita_mensal\",\n",
    "    \"receita_total\",\n",
    "]\n",
    "\n",
    "ordinal_encoder = OrdinalEncoder(handle_unknown=\"use_encoded_value\", unknown_value=-1)\n",
    "one_hot_encoder = OneHotEncoder(handle_unknown=\"ignore\", sparse_output=False)\n",
    "\n",
    "scaler = RobustScaler()\n",
    "\n",
    "preprocessing = ColumnTransformer(\n",
    "    transformers=[\n",
    "        (\n",
    "            \"a\",\n",
    "            ordinal_encoder,\n",
    "            ordinal_columns,\n",
    "        ),\n",
    "        (\n",
    "            \"b\",\n",
    "            one_hot_encoder,\n",
    "            list(set(categoric_columns) - set(ordinal_columns)),\n",
    "        ),\n",
    "        (\n",
    "            \"c\",\n",
    "            scaler,\n",
    "            numeric_columns,\n",
    "        ),\n",
    "    ]\n",
    ").set_output(transform=\"pandas\")"
   ]
  },
  {
   "cell_type": "code",
   "execution_count": null,
   "metadata": {},
   "outputs": [],
   "source": [
    "X_train=preprocessing.fit_transform(X_train)\n",
    "X_test=preprocessing.transform(X_test)"
   ]
  },
  {
   "cell_type": "code",
   "execution_count": null,
   "metadata": {},
   "outputs": [],
   "source": [
    "X_train"
   ]
  },
  {
   "cell_type": "code",
   "execution_count": null,
   "metadata": {},
   "outputs": [],
   "source": [
    "#feature selectionÇ select k best\n",
    "from sklearn.feature_selection import SelectKBest, mutual_info_regression\n",
    "import pandas as pd\n",
    "\n",
    "k=10\n",
    "selector = SelectKBest(mutual_info_regression, k=k)\n",
    "\n",
    "selector.fit(X_train.values, y_train)\n",
    "X_train = pd.DataFrame(selector.transform(X_train.values), columns=X_train.columns[selector.get_support()])\n",
    "X_test = pd.DataFrame(selector.transform(X_test.values), columns=X_test.columns[selector.get_support()])\n",
    "X_train.shape, X_test.shape"
   ]
  },
  {
   "cell_type": "code",
   "execution_count": null,
   "metadata": {},
   "outputs": [],
   "source": [
    "\n",
    "from tqdm.auto import tqdm\n",
    "import pandas as pd\n",
    "#class report\n",
    "from sklearn.metrics import classification_report, confusion_matrix, accuracy_score, roc_auc_score\n",
    "\n",
    "from xgboost import XGBClassifier\n",
    "#linear svc\n",
    "from sklearn.svm import LinearSVC\n",
    "#random forest\n",
    "from sklearn.ensemble import RandomForestClassifier\n",
    "\n",
    "from sklearn.utils.class_weight import compute_class_weight\n",
    "import numpy as np\n",
    "#l;ightgbm\n",
    "from lightgbm import LGBMClassifier\n",
    "\n",
    "# calculate class weights based on the training data\n",
    "class_weights = compute_class_weight('balanced', classes=np.array([0, 1]), y=y_train)\n",
    "\n",
    "# clf = XGBClassifier(n_jobs=-1, random_state=0, pos_weight=10)\n",
    "# clf = LinearSVC(random_state=0, max_iter=1000,class_weight='balanced')\n",
    "# clf=RandomForestClassifier(n_estimators=100, random_state=0, class_weight='balanced')\n",
    "clf=LGBMClassifier(n_estimators=100, random_state=0, class_weight='balanced')\n",
    "\n",
    "clf.fit(X_train, y_train)\n",
    "\n",
    "y_pred = clf.predict(X_test)\n",
    "\n",
    "print(classification_report(y_test, y_pred))\n"
   ]
  },
  {
   "cell_type": "code",
   "execution_count": null,
   "metadata": {},
   "outputs": [],
   "source": [
    "import shap\n",
    "# print the JS visualization code to the notebook\n",
    "shap.initjs()"
   ]
  },
  {
   "cell_type": "code",
   "execution_count": null,
   "metadata": {},
   "outputs": [],
   "source": [
    "explainer = shap.TreeExplainer(clf)\n",
    "shap_values = explainer(X_test)"
   ]
  },
  {
   "cell_type": "code",
   "execution_count": null,
   "metadata": {},
   "outputs": [],
   "source": [
    "shap.force_plot(\n",
    "    explainer.expected_value, shap_values.values[1, :], X_test.iloc[0, :]\n",
    ")"
   ]
  },
  {
   "cell_type": "markdown",
   "metadata": {},
   "source": [
    "Importancia global de cada feature"
   ]
  },
  {
   "cell_type": "code",
   "execution_count": null,
   "metadata": {},
   "outputs": [],
   "source": [
    "explainer = shap.Explainer(clf)\n",
    "shap_values = explainer(X_test)\n",
    "\n",
    "clust = shap.utils.hclust(X_test, y_test, linkage=\"single\")\n",
    "shap.plots.bar(shap_values, clustering=clust, clustering_cutoff=1)"
   ]
  },
  {
   "cell_type": "code",
   "execution_count": null,
   "metadata": {},
   "outputs": [],
   "source": [
    "shap.summary_plot(shap_values, X_test)"
   ]
  }
 ],
 "metadata": {
  "kernelspec": {
   "display_name": "ca",
   "language": "python",
   "name": "python3"
  },
  "language_info": {
   "codemirror_mode": {
    "name": "ipython",
    "version": 3
   },
   "file_extension": ".py",
   "mimetype": "text/x-python",
   "name": "python",
   "nbconvert_exporter": "python",
   "pygments_lexer": "ipython3",
   "version": "3.11.8"
  }
 },
 "nbformat": 4,
 "nbformat_minor": 2
}
